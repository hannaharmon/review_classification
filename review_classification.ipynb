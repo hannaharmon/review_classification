{
 "cells": [
  {
   "cell_type": "code",
   "execution_count": 64,
   "metadata": {},
   "outputs": [],
   "source": [
    "import gensim.downloader as api\n",
    "wv = api.load('word2vec-google-news-300')"
   ]
  },
  {
   "cell_type": "code",
   "execution_count": 65,
   "metadata": {},
   "outputs": [
    {
     "data": {
      "text/plain": [
       "(1000, 2)"
      ]
     },
     "execution_count": 65,
     "metadata": {},
     "output_type": "execute_result"
    }
   ],
   "source": [
    "import pandas as pd\n",
    "\n",
    "# Read the data\n",
    "df = pd.read_csv(\"reviews.csv\")\n",
    "df.shape"
   ]
  },
  {
   "cell_type": "code",
   "execution_count": 66,
   "metadata": {},
   "outputs": [
    {
     "data": {
      "text/html": [
       "<div>\n",
       "<style scoped>\n",
       "    .dataframe tbody tr th:only-of-type {\n",
       "        vertical-align: middle;\n",
       "    }\n",
       "\n",
       "    .dataframe tbody tr th {\n",
       "        vertical-align: top;\n",
       "    }\n",
       "\n",
       "    .dataframe thead th {\n",
       "        text-align: right;\n",
       "    }\n",
       "</style>\n",
       "<table border=\"1\" class=\"dataframe\">\n",
       "  <thead>\n",
       "    <tr style=\"text-align: right;\">\n",
       "      <th></th>\n",
       "      <th>label</th>\n",
       "      <th>review</th>\n",
       "    </tr>\n",
       "  </thead>\n",
       "  <tbody>\n",
       "    <tr>\n",
       "      <th>0</th>\n",
       "      <td>1</td>\n",
       "      <td>This sound track was beautiful! It paints the ...</td>\n",
       "    </tr>\n",
       "    <tr>\n",
       "      <th>1</th>\n",
       "      <td>1</td>\n",
       "      <td>I'm reading a lot of reviews saying that this ...</td>\n",
       "    </tr>\n",
       "    <tr>\n",
       "      <th>2</th>\n",
       "      <td>1</td>\n",
       "      <td>This soundtrack is my favorite music of all ti...</td>\n",
       "    </tr>\n",
       "    <tr>\n",
       "      <th>3</th>\n",
       "      <td>1</td>\n",
       "      <td>I truly like this soundtrack and I enjoy video...</td>\n",
       "    </tr>\n",
       "    <tr>\n",
       "      <th>4</th>\n",
       "      <td>1</td>\n",
       "      <td>If you've played the game, you know how divine...</td>\n",
       "    </tr>\n",
       "  </tbody>\n",
       "</table>\n",
       "</div>"
      ],
      "text/plain": [
       "   label                                             review\n",
       "0      1  This sound track was beautiful! It paints the ...\n",
       "1      1  I'm reading a lot of reviews saying that this ...\n",
       "2      1  This soundtrack is my favorite music of all ti...\n",
       "3      1  I truly like this soundtrack and I enjoy video...\n",
       "4      1  If you've played the game, you know how divine..."
      ]
     },
     "execution_count": 66,
     "metadata": {},
     "output_type": "execute_result"
    }
   ],
   "source": [
    "df.head()"
   ]
  },
  {
   "cell_type": "code",
   "execution_count": 67,
   "metadata": {},
   "outputs": [
    {
     "data": {
      "text/plain": [
       "label\n",
       "1    500\n",
       "0    500\n",
       "Name: count, dtype: int64"
      ]
     },
     "execution_count": 67,
     "metadata": {},
     "output_type": "execute_result"
    }
   ],
   "source": [
    "# Check for a class imbalance\n",
    "df.label.value_counts()"
   ]
  },
  {
   "cell_type": "code",
   "execution_count": 68,
   "metadata": {},
   "outputs": [],
   "source": [
    "import spacy\n",
    "nlp = spacy.load(\"en_core_web_lg\")\n",
    "\n",
    "# Preprocess text, then vectorize it\n",
    "def preprocess_and_vectorize(text):\n",
    "    doc = nlp(text)    # create an nlp object out of text\n",
    "\n",
    "    # Preprocess\n",
    "    # Take out punctuation, get the lemma of words\n",
    "    filtered_tokens = []    # create a list for the filtered tokens\n",
    "    for token in doc:\n",
    "        if token.is_punct:\n",
    "            continue\n",
    "        filtered_tokens.append(token.lemma_)    # append the lemma of the word to the list\n",
    "\n",
    "    # Vectorize\n",
    "    # Get mean vector of list of words -- embedding of the entire paragraph\n",
    "    return wv.get_mean_vector(filtered_tokens)"
   ]
  },
  {
   "cell_type": "code",
   "execution_count": 69,
   "metadata": {},
   "outputs": [],
   "source": [
    "# Preprocess and vectorize the text entries in the reviews column\n",
    "# Put the vector embeddings in a new column titled 'vector'\n",
    "df['vector'] = df['review'].apply(lambda text: preprocess_and_vectorize(text))"
   ]
  },
  {
   "cell_type": "code",
   "execution_count": 70,
   "metadata": {},
   "outputs": [
    {
     "data": {
      "text/html": [
       "<div>\n",
       "<style scoped>\n",
       "    .dataframe tbody tr th:only-of-type {\n",
       "        vertical-align: middle;\n",
       "    }\n",
       "\n",
       "    .dataframe tbody tr th {\n",
       "        vertical-align: top;\n",
       "    }\n",
       "\n",
       "    .dataframe thead th {\n",
       "        text-align: right;\n",
       "    }\n",
       "</style>\n",
       "<table border=\"1\" class=\"dataframe\">\n",
       "  <thead>\n",
       "    <tr style=\"text-align: right;\">\n",
       "      <th></th>\n",
       "      <th>label</th>\n",
       "      <th>review</th>\n",
       "      <th>vector</th>\n",
       "    </tr>\n",
       "  </thead>\n",
       "  <tbody>\n",
       "    <tr>\n",
       "      <th>0</th>\n",
       "      <td>1</td>\n",
       "      <td>This sound track was beautiful! It paints the ...</td>\n",
       "      <td>[0.016545283, 0.012498912, 0.014605034, 0.0473...</td>\n",
       "    </tr>\n",
       "    <tr>\n",
       "      <th>1</th>\n",
       "      <td>1</td>\n",
       "      <td>I'm reading a lot of reviews saying that this ...</td>\n",
       "      <td>[0.012814509, 0.0052005113, 0.024905888, 0.060...</td>\n",
       "    </tr>\n",
       "    <tr>\n",
       "      <th>2</th>\n",
       "      <td>1</td>\n",
       "      <td>This soundtrack is my favorite music of all ti...</td>\n",
       "      <td>[0.02028711, 0.015307231, 0.014013072, 0.04956...</td>\n",
       "    </tr>\n",
       "    <tr>\n",
       "      <th>3</th>\n",
       "      <td>1</td>\n",
       "      <td>I truly like this soundtrack and I enjoy video...</td>\n",
       "      <td>[0.017043907, 0.0034068595, 0.0073494827, 0.04...</td>\n",
       "    </tr>\n",
       "    <tr>\n",
       "      <th>4</th>\n",
       "      <td>1</td>\n",
       "      <td>If you've played the game, you know how divine...</td>\n",
       "      <td>[0.027132623, 0.0033620065, 0.016174693, 0.039...</td>\n",
       "    </tr>\n",
       "  </tbody>\n",
       "</table>\n",
       "</div>"
      ],
      "text/plain": [
       "   label                                             review  \\\n",
       "0      1  This sound track was beautiful! It paints the ...   \n",
       "1      1  I'm reading a lot of reviews saying that this ...   \n",
       "2      1  This soundtrack is my favorite music of all ti...   \n",
       "3      1  I truly like this soundtrack and I enjoy video...   \n",
       "4      1  If you've played the game, you know how divine...   \n",
       "\n",
       "                                              vector  \n",
       "0  [0.016545283, 0.012498912, 0.014605034, 0.0473...  \n",
       "1  [0.012814509, 0.0052005113, 0.024905888, 0.060...  \n",
       "2  [0.02028711, 0.015307231, 0.014013072, 0.04956...  \n",
       "3  [0.017043907, 0.0034068595, 0.0073494827, 0.04...  \n",
       "4  [0.027132623, 0.0033620065, 0.016174693, 0.039...  "
      ]
     },
     "execution_count": 70,
     "metadata": {},
     "output_type": "execute_result"
    }
   ],
   "source": [
    "df.head()"
   ]
  },
  {
   "cell_type": "markdown",
   "metadata": {},
   "source": [
    "### Train-Test split"
   ]
  },
  {
   "cell_type": "code",
   "execution_count": 71,
   "metadata": {},
   "outputs": [],
   "source": [
    "from sklearn.model_selection import train_test_split\n",
    "\n",
    "# Use 20% for testing, 80% for training\n",
    "X_train, X_test, y_train, y_test = train_test_split(\n",
    "    df.vector.values,\n",
    "    df.label,\n",
    "    test_size=0.2,\n",
    "    random_state=2022,\n",
    "    stratify=df.label\n",
    ")"
   ]
  },
  {
   "cell_type": "markdown",
   "metadata": {},
   "source": [
    "### Reshape the X_train and X_test to fit for models"
   ]
  },
  {
   "cell_type": "code",
   "execution_count": 72,
   "metadata": {},
   "outputs": [],
   "source": [
    "import numpy as np\n",
    "\n",
    "# Create 2D arrays from the train and test datasets\n",
    "X_train_2d = np.stack(X_train)\n",
    "X_test_2d = np.stack(X_test)"
   ]
  },
  {
   "cell_type": "markdown",
   "metadata": {},
   "source": [
    "### Train Machine Learning Model"
   ]
  },
  {
   "cell_type": "code",
   "execution_count": 73,
   "metadata": {},
   "outputs": [
    {
     "name": "stdout",
     "output_type": "stream",
     "text": [
      "              precision    recall  f1-score   support\n",
      "\n",
      "           0       0.94      0.92      0.93       100\n",
      "           1       0.92      0.94      0.93       100\n",
      "\n",
      "    accuracy                           0.93       200\n",
      "   macro avg       0.93      0.93      0.93       200\n",
      "weighted avg       0.93      0.93      0.93       200\n",
      "\n"
     ]
    }
   ],
   "source": [
    "from sklearn.ensemble import GradientBoostingClassifier\n",
    "from sklearn.metrics import classification_report\n",
    "\n",
    "# 1. Create a GradientBoosting model object\n",
    "clf = GradientBoostingClassifier()\n",
    "\n",
    "# 2. Fit with train embeddings\n",
    "clf.fit(X_train_2d, y_train)\n",
    "\n",
    "# 3. Get the predictions for the test embeddings\n",
    "y_pred = clf.predict(X_test_2d)\n",
    "\n",
    "# 4. Print the classification report\n",
    "print(classification_report(y_test, y_pred))"
   ]
  },
  {
   "cell_type": "markdown",
   "metadata": {},
   "source": [
    "### Make Predictions"
   ]
  },
  {
   "cell_type": "code",
   "execution_count": 76,
   "metadata": {},
   "outputs": [
    {
     "name": "stdout",
     "output_type": "stream",
     "text": [
      "AI Reviews: [0 0 0 0 0 1 0 0 0 1 0 0 0 0 1]\n",
      "Human Reviews: [1 1 1 1 1 0 1 1 1 1 1 1 1 1 1]\n"
     ]
    }
   ],
   "source": [
    "test_ai = [\n",
    "    # AI generated reviews\n",
    "    \"I have to admit, I was genuinely disappointed with this book. The narrative felt incredibly sluggish, as if the author was dragging the story along without any clear direction. The characters lacked depth and failed to evoke any empathy or interest from me. The plot twists, if you can even call them that, were predictable and did little to redeem the overall lackluster storyline. The writing style, too, was unremarkable, lacking the finesse and creativity I expect from a published work. Frankly, I found myself struggling to finish the book, and by the end, I couldn't shake the feeling that I had wasted both time and money on a forgettable piece of literature. Save yourself the trouble and give this one a pass.\",\n",
    "    \"Stumbled upon this album, and it's a total vibe! From the first track to the last, it's a musical rollercoaster that hits all the right notes. The artist's style is crazy diverse, giving you tunes for every mood. The lyrics? Pure feels. The vocals? Straight from the heart. It's quickly become my go-to, the soundtrack to my day. If you're into music that's not just background noise but a real mood booster, this album is the one! Highly recommend.\",\n",
    "    \"I'm thrilled with this backpack! It nails the sweet spot between style and functionality. The sleek design works for both work and play, and the cleverly organized compartments make it a storage superstar. The laptop sleeve is a game-changer, and the water-resistant material saved my gear in unexpected rain. Plus, it's incredibly comfortable to wear, even on long journeys. The thoughtful details like reflective strips for safety show that this backpack is a cut above the rest. Highly recommended!\",\n",
    "    \"This watch is a true gem in my collection. Its elegant design and precision movement make it a standout. The stainless steel case feels sturdy yet lightweight, and the sapphire crystal ensures a scratch-free experience. Comfortable to wear with a versatile strap, it effortlessly transitions from formal to casual occasions. Setting the date and time is a breeze. If you're seeking a blend of style and functionality, this watch is a must-have. Highly recommended!\",\n",
    "    \"This captivating journey blends imagination with wisdom. Characters are brilliantly crafted, world-building is enchanting, and the narrative imparts profound insights seamlessly. With perfect pacing and satisfying plot twists, this literary gem transcends genres, leaving a lasting impact. Highly recommended for those seeking a thought-provoking and immersive read.\",\n",
    "    \"These shoes are a game-changer! Incredibly comfortable with a sleek design that suits any occasion. Quality craftsmanship, true-to-size fit, and a non-slip sole make them a top pick. Highly recommend for those who want both style and comfort in every step.\",\n",
    "    \"These brushes are legit magic. Soft as a kitten's whiskers, they blend makeup like sorcery. Unicorn handles add a whimsical touch. My cat-eye game is now legendary. Packaging is a holographic dream. Transform your face – get these brushes now!\",\n",
    "    \"These slippers are an absolute game-changer for anyone in pursuit of comfort. The plush lining feels like a gentle hug for your feet, and the memory foam sole provides heavenly support. The anti-slip bottom ensures stability, even on slippery surfaces. Plus, the design is both cute and functional. Say goodbye to chilly toes – these slippers are a cozy delight!\",\n",
    "    \"I had high hopes for these slippers, but sadly, they missed the mark. The memory foam felt more like a thin layer of padding, providing minimal support. The sizing was off, and despite adjusting the straps, the slippers constantly slipped off. The anti-slip bottom didn't live up to its promise – I found myself sliding around on hardwood floors. Disappointing purchase overall; I expected more for the price.\",\n",
    "    \"These slippers are middle-of-the-road in terms of comfort and quality. The memory foam provides some cushioning, but it's not as plush as expected. The sizing is accurate, and the anti-slip bottom works well on most surfaces. The design is simple and functional, suitable for everyday wear around the house. While they aren't exceptional, they get the job done for casual use.\",\n",
    "    \"This fitness tracker is a handy companion for health enthusiasts. The step count and heart rate monitor are accurate, and the sleep tracking feature provides insightful data. The app interface is user-friendly, making it easy to track progress. My only qualm is that the battery life could be longer; I find myself charging it every few days. Overall, a great tool for fitness tracking and staying motivated on your wellness journey.\",\n",
    "    \"I am blown away by the sound quality of this portable Bluetooth speaker! Despite its compact size, it delivers powerful and clear audio. The battery life is impressive, lasting through extended gatherings without needing a recharge. The Bluetooth connectivity is seamless, and I love that it's water-resistant – perfect for poolside parties. If you're in the market for a portable speaker that doesn't compromise on sound, look no further!\",\n",
    "    \"This coffee maker changed my mornings forever! The convenience and speed are unmatched. My kitchen feels like a coffee shop now.\",\n",
    "    \"This neck pillow is a travel essential. It's like bringing a piece of my own bed with me on long flights. I can finally sleep comfortably on planes!\",\n",
    "    \"I can't say enough good things about these resistance bands. They're durable, versatile, and perfect for a full-body workout at home. A game-changer for my fitness routine!\"\n",
    "]\n",
    "\n",
    "test_real = [\n",
    "    # Real amazon reviews copied and pasted from product pages\n",
    "    \"How can you not love Reese. Great movie just had to buy it so my wife was happy. Great to watch on cold days to snuggle.\",\n",
    "    \"The bag pack arrived on time. First thing I noticed was how good the quality was. The dimensions are perfect for my 5’4” frame. I love that the way that the bag pack opens up and retains that shape. I will be using it for the field. It does not fit my 15” laptop, but it does fit my MacBook Air M2, if that helps. Very very happy with the bag.\",\n",
    "    \"It’s structured so you can’t really overfill it which is nice if you have a tendency to do that. Will hold a laptop, notebook or 2 and chargers. Very comfortable to wear and the size makes it easy to take anywhere.\",\n",
    "    \"Very nice bag. I purchased so that I could use for work and also as my purse. It’s a nice size and durable. I can be pretty hard on my handbags but this backpack has held up with being thrown around, traveling and all sorts of weather.\",\n",
    "    \"This is a beautiful watch/bracelet set. It fits well on my wrist.\",\n",
    "    \"This was a birthday gift for our 11 year old daughter and she now goes everywhere with her tortilla blanket! I think it’s the funniest thing and she gets a kick out of it. It’s nice and soft, a very large size, and circular which we really love. The tortilla pattern really makes it fun and my daughter likes to roll up in it and play like she’s a giant burrito. The perfect burrito blanket gift she never knew she wanted.\",\n",
    "    \"We were pleasantly surprised with this blanket. It’s soft, big, and nice and thick. It’s now the family favorite and we all fight over it. Good purchase!\",\n",
    "    \"This is a really pretty set and the brushes feel lovely. I actually bought them for painting in oils and blending charcoal drawings, so I'm keeping the brushes I'll use and passing the rest of the set to someone who uses makeup. I'll be keeping the brush scrubber - what a handy accessory in a brush set! Very nice packaging and presentation. This would be a nice gift for Secret Santa exchanges.\",\n",
    "    \"I was nervous to buy these for the quality cus they were so cheap but they are a perfect UGG dupe!!! They're so comfy and cute for the winter time. Probably gonna buy some more in different colors now haha :)\",\n",
    "    \"These are my most favorite, in fact, as I write this, I’m waiting for my second to arrive. They are comfortable, warm, fit perfect. I love them. Although even though people with the reviews have said you can wash them, I would not recommend.. I have tried and they kind of fell apart. I put them through a delicate cycle and air dried and it torn them up. I’m a bit disappointed in that.. so now they are my outdoor shoes if I have to go outside for something. But I highly recommend these. I live in them.\",\n",
    "    \"Decent quality except for eyelash curler. The lash curler is a but janky but the rest is surprisingly decent quality. Not the best, but again you get what you pay for. Love the lip scrubber and the lashes are actually really cute and better than expected. Not bad but not professional quality if that’s what you’re looking for\",\n",
    "    \"This are great quality, easy to wash and the pouch for the brushes is perfect for travel. My only complain is that the face ones are a LITTLE too soft so it is not great for cream products.\",\n",
    "    \"I never thought I'd have this complaint, but the larger brushes are too soft. They're so soft that they don't really have any structure, and therefore there's very little control over what gets deposited or blended. I'm not having very good luck with the eyeshadow brushes either. One positive about the softness of the brushes though: when I'm having a migraine, my husband uses them to softly brush over my face, which feels really really nice. They do feel lovely on the skin, just not the greatest for makeup application. Exfoliators and sponges are top notch though.\",\n",
    "    \"These slippers are so comfy and warm! They are so stylish and exactly the look that I wanted. The sole is thick and a harder material so if you wanted to wear it outside you could but I only wear them around my house. I typically wear a size 9 shoe and I ordered a size 10 in these because slippers are usually tight on me for some reason, probably because of the furr. So I always size up and they fit perfectly. They keep me warm now that it is getting cold out and they are all around a great indoor shoe!\",\n",
    "    \"Purchased in the beginning of the season to make my range sessions and at home net sessions more purposeful. I have also used with my kids to help them understand flight dynamics, yardage etc. I’ve also used on course with friends. It’s really a great product and I have enjoyed it. With regard to accuracy, it’s great. Just a few range sessions of assessing club yardage has led to better club selection on the course. I’ve lowered my handicap a few strokes and shot a few personal low rounds this year after dialing in yardages. Recently, I had a number on the course and dropped a wedge to tap in distance solely as a result of being better informed. I haven’t scratched the surface of the games and I will likely do so during the winter months. Overall, I would purchase again and I am satisfied with the product.\"\n",
    "]\n",
    "\n",
    "print(f\"AI Reviews: {clf.predict([preprocess_and_vectorize(n) for n in test_ai])}\")\n",
    "print(f\"Human Reviews: {clf.predict([preprocess_and_vectorize(n) for n in test_real])}\")"
   ]
  },
  {
   "cell_type": "markdown",
   "metadata": {},
   "source": [
    "### Confusion Matrix"
   ]
  },
  {
   "cell_type": "code",
   "execution_count": 75,
   "metadata": {},
   "outputs": [
    {
     "data": {
      "text/plain": [
       "Text(95.72222222222221, 0.5, 'Actual Value')"
      ]
     },
     "execution_count": 75,
     "metadata": {},
     "output_type": "execute_result"
    },
    {
     "data": {
      "image/png": "[encoded data removed]",
      "text/plain": [
       "<Figure size 1000x700 with 2 Axes>"
      ]
     },
     "metadata": {},
     "output_type": "display_data"
    }
   ],
   "source": [
    "from sklearn.metrics import confusion_matrix\n",
    "cm = confusion_matrix(y_test, y_pred)\n",
    "cm\n",
    "\n",
    "from matplotlib import pyplot as plt\n",
    "import seaborn as sn\n",
    "plt.figure(figsize=(10,7))\n",
    "sn.heatmap(cm, annot=True, fmt='d')\n",
    "plt.xlabel('Prediction')\n",
    "plt.ylabel('Actual Value')"
   ]
  }
 ],
 "metadata": {
  "kernelspec": {
   "display_name": "Python 3 (ipykernel)",
   "language": "python",
   "name": "python3"
  },
  "language_info": {
   "codemirror_mode": {
    "name": "ipython",
    "version": 3
   },
   "file_extension": ".py",
   "mimetype": "text/x-python",
   "name": "python",
   "nbconvert_exporter": "python",
   "pygments_lexer": "ipython3",
   "version": "3.10.12"
  }
 },
 "nbformat": 4,
 "nbformat_minor": 4
}
